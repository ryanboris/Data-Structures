{
 "cells": [
  {
   "cell_type": "code",
   "execution_count": 33,
   "metadata": {},
   "outputs": [],
   "source": [
    "import unittest\n",
    "\"\"\"Each ListNode holds a reference to its previous node\n",
    "as well as its next node in the List.\"\"\"\n",
    "# %%\n",
    "\n",
    "\n",
    "import math\n",
    "\n",
    "\n",
    "class ListNode:\n",
    "    def __init__(self, value, prev=None, next=None):\n",
    "        self.value = value\n",
    "        self.prev = prev\n",
    "        self.next = next\n",
    "\n",
    "    \"\"\"Wrap the given value in a ListNode and insert it\n",
    "  after this node. Note that this node could already\n",
    "  have a next node it is point to.\"\"\"\n",
    "\n",
    "    def insert_after(self, value):\n",
    "        current_next = self.next\n",
    "        self.next = ListNode(value, self, current_next)\n",
    "        if current_next:\n",
    "            current_next.prev = self.next\n",
    "\n",
    "    \"\"\"Wrap the given value in a ListNode and insert it\n",
    "  before this node. Note that this node could already\n",
    "  have a previous node it is point to.\"\"\"\n",
    "\n",
    "    def insert_before(self, value):\n",
    "        current_prev = self.prev\n",
    "        self.prev = ListNode(value, current_prev, self)\n",
    "        if current_prev:\n",
    "            current_prev.next = self.prev\n",
    "\n",
    "    \"\"\"Rearranges this ListNode's previous and next pointers\n",
    "  accordingly, effectively deleting this ListNode.\"\"\"\n",
    "\n",
    "    def delete(self):\n",
    "        if self.prev:\n",
    "            self.prev.next = self.next\n",
    "        if self.next:\n",
    "            self.next.prev = self.prev\n",
    "\n",
    "\n",
    "\"\"\"Our doubly-linked list class. It holds references to\n",
    "the list's head and tail nodes.\"\"\"\n",
    "\n",
    "\n",
    "class DoublyLinkedList:\n",
    "    def __init__(self, node=None):\n",
    "        self.head = node\n",
    "        self.tail = node\n",
    "        self.length = 1 if node is not None else 0\n",
    "\n",
    "    def __len__(self):\n",
    "        return self.length\n",
    "\n",
    "    def add_to_head(self, value):\n",
    "        next_head = ListNode(value, None, self.head)\n",
    "        if not self.head and not self.tail:\n",
    "            self.head = next_head\n",
    "            self.tail = next_head\n",
    "            self.head.prev = None\n",
    "            self.head.next = None\n",
    "            self.length = 1\n",
    "        else:\n",
    "            self.head.prev = next_head\n",
    "            next_head.prev = None\n",
    "            self.head = next_head\n",
    "            self.length += 1\n",
    "\n",
    "    def remove_from_head(self):\n",
    "        removed_head = self.head.value\n",
    "        if self.head == self.tail:\n",
    "            self.head = None\n",
    "            self.tail = None\n",
    "            self.length = 0\n",
    "        else:\n",
    "            self.head = self.head.next\n",
    "            self.head.prev.delete()\n",
    "            self.length -= 1\n",
    "        return removed_head\n",
    "\n",
    "    def add_to_tail(self, value):\n",
    "        next_tail = ListNode(value, self.tail)\n",
    "        if not self.head and not self.tail:\n",
    "            self.head = next_tail\n",
    "            self.tail = next_tail\n",
    "            self.head.prev = None\n",
    "            self.head.next = None\n",
    "            self.length = 1\n",
    "        else:\n",
    "            self.tail.next = next_tail\n",
    "            self.tail = next_tail\n",
    "            self.length += 1\n",
    "\n",
    "    def remove_from_tail(self):\n",
    "        removed_tail = self.tail.value\n",
    "        if self.head == self.tail:\n",
    "            self.head = None\n",
    "            self.tail = None\n",
    "            self.length = 0\n",
    "        else:\n",
    "            self.tail = self.tail.prev\n",
    "            self.tail.next.delete()\n",
    "            self.length -= 1\n",
    "        return removed_tail\n",
    "\n",
    "    def move_to_front(self, node):\n",
    "        self.add_to_head(node.value)\n",
    "        self.length -= 1\n",
    "\n",
    "    def move_to_end(self, node):\n",
    "        if self.length > 1 and node is not self.tail:\n",
    "            self.tail.insert_after(node.value)\n",
    "            self.tail = self.tail.next\n",
    "        if node == self.head:\n",
    "            self.head = node.next\n",
    "        node.delete()\n",
    "\n",
    "    def delete(self, node):\n",
    "        if self.head == self.tail:\n",
    "            self.head = None\n",
    "            self.tail = None\n",
    "            self.length = 0\n",
    "        elif self.tail == node:\n",
    "            self.remove_from_tail()\n",
    "        elif self.head == node:\n",
    "            self.remove_from_head()\n",
    "        else:\n",
    "            node.prev.next = node.next\n",
    "            node.next.prev = node.prev\n",
    "            self.length -= 1\n",
    "\n",
    "    def get_max(self):\n",
    "        max_val = -1 * math.inf\n",
    "        current = self.head\n",
    "        while current:\n",
    "            if current.value > max_val:\n",
    "                max_val = current.value\n",
    "            current = current.next\n",
    "        return max_val\n",
    "\n",
    "\n",
    "# %%\n",
    "\n",
    "\n",
    "\"\"\"Each ListNode holds a reference to its previous node\n",
    "as well as its next node in the List.\"\"\"\n",
    "# %%\n",
    "\n",
    "\n",
    "class ListNode:\n",
    "    def __init__(self, value, prev=None, next=None):\n",
    "        self.value = value\n",
    "        self.prev = prev\n",
    "        self.next = next\n",
    "\n",
    "    \"\"\"Wrap the given value in a ListNode and insert it\n",
    "  after this node. Note that this node could already\n",
    "  have a next node it is point to.\"\"\"\n",
    "\n",
    "    def insert_after(self, value):\n",
    "        current_next = self.next\n",
    "        self.next = ListNode(value, self, current_next)\n",
    "        if current_next:\n",
    "            current_next.prev = self.next\n",
    "\n",
    "    \"\"\"Wrap the given value in a ListNode and insert it\n",
    "  before this node. Note that this node could already\n",
    "  have a previous node it is point to.\"\"\"\n",
    "\n",
    "    def insert_before(self, value):\n",
    "        current_prev = self.prev\n",
    "        self.prev = ListNode(value, current_prev, self)\n",
    "        if current_prev:\n",
    "            current_prev.next = self.prev\n",
    "\n",
    "    \"\"\"Rearranges this ListNode's previous and next pointers\n",
    "  accordingly, effectively deleting this ListNode.\"\"\"\n",
    "\n",
    "    def delete(self):\n",
    "        if self.prev:\n",
    "            self.prev.next = self.next\n",
    "        if self.next:\n",
    "            self.next.prev = self.prev\n",
    "\n",
    "\n",
    "\"\"\"Our doubly-linked list class. It holds references to\n",
    "the list's head and tail nodes.\"\"\"\n",
    "\n",
    "\n",
    "class DoublyLinkedList:\n",
    "    def __init__(self, node=None):\n",
    "        self.head = node\n",
    "        self.tail = node\n",
    "        self.length = 1 if node is not None else 0\n",
    "\n",
    "    def __len__(self):\n",
    "        return self.length\n",
    "\n",
    "    def add_to_head(self, value):\n",
    "        next_head = ListNode(value, None, self.head)\n",
    "        if not self.head and not self.tail:\n",
    "            self.head = next_head\n",
    "            self.tail = next_head\n",
    "            self.head.prev = None\n",
    "            self.head.next = None\n",
    "            self.length = 1\n",
    "        else:\n",
    "            self.head.prev = next_head\n",
    "            next_head.prev = None\n",
    "            self.head = next_head\n",
    "            self.length += 1\n",
    "\n",
    "    def remove_from_head(self):\n",
    "        removed_head = self.head.value\n",
    "        if self.head == self.tail:\n",
    "            self.head = None\n",
    "            self.tail = None\n",
    "            self.length = 0\n",
    "        else:\n",
    "            self.head = self.head.next\n",
    "            self.head.prev.delete()\n",
    "            self.length -= 1\n",
    "        return removed_head\n",
    "\n",
    "    def add_to_tail(self, value):\n",
    "        next_tail = ListNode(value, self.tail)\n",
    "        if not self.head and not self.tail:\n",
    "            self.head = next_tail\n",
    "            self.tail = next_tail\n",
    "            self.head.prev = None\n",
    "            self.head.next = None\n",
    "            self.length = 1\n",
    "        else:\n",
    "            self.tail.next = next_tail\n",
    "            self.tail = next_tail\n",
    "            self.length += 1\n",
    "\n",
    "    def remove_from_tail(self):\n",
    "        removed_tail = self.tail.value\n",
    "        if self.head == self.tail:\n",
    "            self.head = None\n",
    "            self.tail = None\n",
    "            self.length = 0\n",
    "        else:\n",
    "            self.tail = self.tail.prev\n",
    "            self.tail.next.delete()\n",
    "            self.length -= 1\n",
    "        return removed_tail\n",
    "\n",
    "    def move_to_front(self, node):\n",
    "        self.add_to_head(node.value)\n",
    "        self.length -= 1\n",
    "\n",
    "    def move_to_end(self, node):\n",
    "        if self.length > 1 and node is not self.tail:\n",
    "            self.tail.insert_after(node.value)\n",
    "            self.tail = self.tail.next\n",
    "        if node == self.head:\n",
    "            self.head = node.next\n",
    "        node.delete()\n",
    "\n",
    "    def delete(self, node):\n",
    "        if self.head == self.tail:\n",
    "            self.head = None\n",
    "            self.tail = None\n",
    "            self.length = 0\n",
    "        elif self.tail == node:\n",
    "            self.remove_from_tail()\n",
    "        elif self.head == node:\n",
    "            self.remove_from_head()\n",
    "        else:\n",
    "            node.prev.next = node.next\n",
    "            node.next.prev = node.prev\n",
    "            self.length -= 1\n",
    "\n",
    "    def get_max(self):\n",
    "        max_val = -1 * math.inf\n",
    "        current = self.head\n",
    "        while current:\n",
    "            if current.value > max_val:\n",
    "                max_val = current.value\n",
    "            current = current.next\n",
    "        return max_val\n",
    "\n",
    "    \n",
    "    def __str__(self):\n",
    "        return str(self.__class__) + \": \" + str(self.__dict__)\n",
    "# %%\n",
    "\n",
    "class TextBuffer:\n",
    "    # init gives us the option to initialize some text in the\n",
    "    # buffer right off the bat\n",
    "    def __init__(self, init=None):\n",
    "        self.contents = DoublyLinkedList()\n",
    "        # check if an init string is provided\n",
    "        # if so, put the contents of the init string in self.contents\n",
    "        if init:\n",
    "            init = init[::-1]\n",
    "            i = 0\n",
    "            while i < len(init):\n",
    "                self.contents.add_to_head(init[i])\n",
    "                i += 1\n",
    "\n",
    "    def __str__(self):\n",
    "        # needs to return a string to print\n",
    "        s = \"\"\n",
    "        current = self.contents.head\n",
    "        while current:\n",
    "            s += current.value\n",
    "            current = current.next\n",
    "        return s\n",
    "\n",
    "    def append(self, string_to_add):\n",
    "        i = 0\n",
    "        while i < len(string_to_add):\n",
    "            self.contents.add_to_tail(string_to_add[i])\n",
    "            i += 1\n",
    "\n",
    "    def prepend(self, string_to_add):\n",
    "        # reverse the incoming string to maintain correct\n",
    "        # order when adding to the front of the text buffer\n",
    "        string_to_add = string_to_add[::-1]\n",
    "        i = 0\n",
    "        while i < len(string_to_add):\n",
    "            self.contents.add_to_head(string_to_add[i])\n",
    "            i += 1\n",
    "\n",
    "    def delete_front(self, chars_to_remove):\n",
    "        i = 1\n",
    "        while i <= chars_to_remove:\n",
    "            self.contents.remove_from_head()\n",
    "            i += 1\n",
    "\n",
    "    def delete_back(self, chars_to_remove):\n",
    "        i = chars_to_remove\n",
    "        while i > 0:\n",
    "            self.contents.remove_from_tail()\n",
    "            i -= 1\n",
    "    \"\"\"\n",
    "    Join other_buffer to self\n",
    "    The input buffer gets concatenated to the end of this buffer\n",
    "    The tail of the concatenated buffer will be the tail of the other buffer\n",
    "    The head of the concatenated buffer will be the head of this buffer\n",
    "    \"\"\"\n",
    "\n",
    "    def join(self, other_buffer):\n",
    "        # we might want to check that other_buffer is indeed a text buffer\n",
    "\n",
    "        # set self list tail's next node to be the head of the other buffer\n",
    "\n",
    "       \n",
    "\n",
    "        # set other_buffer head's prev node to be the tail of this buffer\n",
    "        if isinstance(other_buffer, TextBuffer):\n",
    "            self.contents.tail.next = other_buffer.contents.head\n",
    "            other_buffer.contents.head.prev = self.contents.tail\n",
    "            return\n",
    "        else:\n",
    "            self.join_string(other_buffer)\n",
    "\n",
    "    # if we get fed a string instead of a text buffer instance,\n",
    "    # initialize a new text buffer with this string and then\n",
    "    # call the join method\n",
    "\n",
    "    def join_string(self, string_to_join):\n",
    "        i = 0\n",
    "        while i < len(string_to_join):\n",
    "            self.contents.add_to_tail(string_to_join[i])\n",
    "            i += 1\n"
   ]
  },
  {
   "cell_type": "code",
   "execution_count": 34,
   "metadata": {},
   "outputs": [],
   "source": [
    "t = TextBuffer('hi')"
   ]
  },
  {
   "cell_type": "code",
   "execution_count": 35,
   "metadata": {},
   "outputs": [],
   "source": [
    "t.join('hihi')"
   ]
  },
  {
   "cell_type": "code",
   "execution_count": 36,
   "metadata": {},
   "outputs": [
    {
     "data": {
      "text/plain": [
       "'hihihi'"
      ]
     },
     "execution_count": 36,
     "metadata": {},
     "output_type": "execute_result"
    }
   ],
   "source": [
    "t.__str__()"
   ]
  },
  {
   "cell_type": "code",
   "execution_count": 37,
   "metadata": {},
   "outputs": [],
   "source": [
    "t.join('SUP')"
   ]
  },
  {
   "cell_type": "code",
   "execution_count": 38,
   "metadata": {},
   "outputs": [
    {
     "data": {
      "text/plain": [
       "'hihihiSUP'"
      ]
     },
     "execution_count": 38,
     "metadata": {},
     "output_type": "execute_result"
    }
   ],
   "source": [
    "t.__str__()"
   ]
  },
  {
   "cell_type": "code",
   "execution_count": 39,
   "metadata": {},
   "outputs": [
    {
     "ename": "AttributeError",
     "evalue": "'TextBuffer' object has no attribute 'head'",
     "output_type": "error",
     "traceback": [
      "\u001b[0;31m---------------------------------------------------------------------------\u001b[0m",
      "\u001b[0;31mAttributeError\u001b[0m                            Traceback (most recent call last)",
      "\u001b[0;32m<ipython-input-39-9deca274bb4e>\u001b[0m in \u001b[0;36m<module>\u001b[0;34m\u001b[0m\n\u001b[0;32m----> 1\u001b[0;31m \u001b[0mt\u001b[0m\u001b[0;34m.\u001b[0m\u001b[0mhead\u001b[0m\u001b[0;34m\u001b[0m\u001b[0;34m\u001b[0m\u001b[0m\n\u001b[0m",
      "\u001b[0;31mAttributeError\u001b[0m: 'TextBuffer' object has no attribute 'head'"
     ]
    }
   ],
   "source": [
    "t.head"
   ]
  },
  {
   "cell_type": "code",
   "execution_count": 40,
   "metadata": {},
   "outputs": [
    {
     "data": {
      "text/plain": [
       "<__main__.DoublyLinkedList at 0x102575550>"
      ]
     },
     "execution_count": 40,
     "metadata": {},
     "output_type": "execute_result"
    }
   ],
   "source": [
    "t.contents"
   ]
  },
  {
   "cell_type": "code",
   "execution_count": 41,
   "metadata": {},
   "outputs": [
    {
     "name": "stdout",
     "output_type": "stream",
     "text": [
      "<class '__main__.DoublyLinkedList'>: {'head': <__main__.ListNode object at 0x102575650>, 'tail': <__main__.ListNode object at 0x1025aa490>, 'length': 9}\n"
     ]
    }
   ],
   "source": [
    "print(t.contents)"
   ]
  },
  {
   "cell_type": "code",
   "execution_count": 42,
   "metadata": {},
   "outputs": [
    {
     "name": "stdout",
     "output_type": "stream",
     "text": [
      "{'contents': <__main__.DoublyLinkedList object at 0x102575550>}\n"
     ]
    }
   ],
   "source": [
    "print(t.__dict__)"
   ]
  },
  {
   "cell_type": "code",
   "execution_count": 43,
   "metadata": {},
   "outputs": [
    {
     "name": "stdout",
     "output_type": "stream",
     "text": [
      "<class '__main__.DoublyLinkedList'>: {'head': <__main__.ListNode object at 0x102575650>, 'tail': <__main__.ListNode object at 0x1025aa490>, 'length': 9}\n"
     ]
    }
   ],
   "source": [
    "print(t.__dict__[\"contents\"])"
   ]
  },
  {
   "cell_type": "code",
   "execution_count": 44,
   "metadata": {},
   "outputs": [
    {
     "name": "stdout",
     "output_type": "stream",
     "text": [
      "<method-wrapper '__repr__' of TextBuffer object at 0x102575710>\n"
     ]
    }
   ],
   "source": [
    "print(t.__repr__)"
   ]
  },
  {
   "cell_type": "code",
   "execution_count": null,
   "metadata": {},
   "outputs": [],
   "source": []
  },
  {
   "cell_type": "code",
   "execution_count": null,
   "metadata": {},
   "outputs": [],
   "source": []
  }
 ],
 "metadata": {
  "kernelspec": {
   "display_name": "Python 3",
   "language": "python",
   "name": "python3"
  },
  "language_info": {
   "codemirror_mode": {
    "name": "ipython",
    "version": 3
   },
   "file_extension": ".py",
   "mimetype": "text/x-python",
   "name": "python",
   "nbconvert_exporter": "python",
   "pygments_lexer": "ipython3",
   "version": "3.7.4"
  }
 },
 "nbformat": 4,
 "nbformat_minor": 2
}
